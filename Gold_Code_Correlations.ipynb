{
 "metadata": {
  "name": "",
  "signature": "sha256:c5bbb98ba80ed7e563b3cec4b77f07f2bb280f662f7ab3a85f6f3ae9b6d9abef"
 },
 "nbformat": 3,
 "nbformat_minor": 0,
 "worksheets": [
  {
   "cells": [
    {
     "cell_type": "code",
     "collapsed": false,
     "input": [
      "import numpy as np\n",
      "from matplotlib import pyplot as plt\n",
      "%matplotlib inline\n",
      "plt.rcParams['figure.figsize'] = (20.0, 12.0)\n",
      "\n",
      "# JSAnimation import available at https://github.com/jakevdp/JSAnimation\n",
      "from JSAnimation import IPython_display\n",
      "from matplotlib import animation\n",
      "from IPython.html.widgets import interact\n",
      "\n",
      "# sp from https://github.com/mubeta06/python/tree/master/signal_processing\n",
      "from sp import mls\n",
      "from sp import filter"
     ],
     "language": "python",
     "metadata": {},
     "outputs": [],
     "prompt_number": 12
    },
    {
     "cell_type": "code",
     "collapsed": false,
     "input": [
      "nbits = 4\n",
      "samples_per_chip = 15"
     ],
     "language": "python",
     "metadata": {},
     "outputs": [],
     "prompt_number": 2
    },
    {
     "cell_type": "code",
     "collapsed": false,
     "input": [
      "signals = {1: mls.mls(nbits, seed=[1,0,0,0]),\n",
      "           2: mls.mls(nbits, seed=[1,1,0,0])}"
     ],
     "language": "python",
     "metadata": {},
     "outputs": [],
     "prompt_number": 3
    },
    {
     "cell_type": "code",
     "collapsed": false,
     "input": [
      "class CorrelationDemonstration(object):\n",
      "    \"\"\"Animation or interactive plot of the cross-correlation\n",
      "       of two binary sequences of the same length\n",
      "    \"\"\"\n",
      "    \n",
      "    def __init__(self, fig, signal1, signal2, samples_per_chip=5): \n",
      "        assert len(signal1) == len(signal2)\n",
      "        self.fig = fig\n",
      "        self.signal1 = signal1\n",
      "        self.signal2 = signal2\n",
      "\n",
      "        self.samples_per_chip = samples_per_chip\n",
      "        self.time = np.linspace(-0.5, 0.5, self.samples_per_chip * len(self.signal1))\n",
      "\n",
      "    def plot_init(self):\n",
      "        self.ax = plt.axes(xlim=(-0.5, 0.5), ylim=(-1.2, 1.2))\n",
      "        self.line1, = self.ax.step([], [], lw=2)\n",
      "        self.line2, = self.ax.step([], [], lw=2) \n",
      "        self.line3, = self.ax.step([], [], lw=6, color='red')\n",
      "\n",
      "        self.line1.set_data([], [])\n",
      "        self.line2.set_data([], [])\n",
      "        self.line3.set_data([], [])\n",
      "        self.ax.axhline(0, color='black')\n",
      "\n",
      "    def plot(self, shift=0):\n",
      "        d1 =         np.where(self.signal1, 1.0, -1.0).repeat(self.samples_per_chip)\n",
      "        d2 = np.roll(np.where(self.signal2, 1.0, -1.0).repeat(self.samples_per_chip), shift)\n",
      "        self.line1.set_data(self.time, d1+0.02)\n",
      "        self.line2.set_data(self.time, d2-0.02)\n",
      "        self.line3.set_data(self.time, 0.3*d1*d2)"
     ],
     "language": "python",
     "metadata": {},
     "outputs": [],
     "prompt_number": 4
    },
    {
     "cell_type": "code",
     "collapsed": false,
     "input": [
      "fig = plt.figure()\n",
      "demo = CorrelationDemonstration(fig, signals[1], signals[2])\n",
      "demo.plot_init()\n",
      "demo.plot(20)"
     ],
     "language": "python",
     "metadata": {},
     "outputs": [
      {
       "metadata": {},
       "output_type": "display_data",
       "png": "[encoded data removed]",
       "text": [
        "<matplotlib.figure.Figure at 0x7f3f35754b90>"
       ]
      }
     ],
     "prompt_number": 8
    },
    {
     "cell_type": "code",
     "collapsed": false,
     "input": [
      "#@interact(s1=1, s2=2, shift=(-samples_per_chip*2**nbits/2, samples_per_chip*2**nbits/2))\n",
      "#def function(): #plotting something\n",
      "#\n",
      "\n",
      "fig = plt.figure()\n",
      "demo = CorrelationDemonstration(fig, signals[1], signals[2])\n",
      "demo.plot_init()\n",
      "interact(demo.plot)"
     ],
     "language": "python",
     "metadata": {},
     "outputs": [
      {
       "metadata": {},
       "output_type": "display_data",
       "text": [
        "<matplotlib.figure.Figure at 0x7f3f54050350>"
       ]
      }
     ],
     "prompt_number": 5
    },
    {
     "cell_type": "code",
     "collapsed": false,
     "input": [
      "samples_per_chip = 25\n",
      "fig = plt.figure()\n",
      "demo = CorrelationDemonstration(fig, signals[1], signals[2], samples_per_chip=samples_per_chip)\n",
      "demo.plot_init()\n",
      "animation.FuncAnimation(fig, demo.plot,\n",
      "                        frames=samples_per_chip*len(signals[1]), interval=100, blit=True)"
     ],
     "language": "python",
     "metadata": {},
     "outputs": [],
     "prompt_number": "*"
    },
    {
     "cell_type": "code",
     "collapsed": false,
     "input": [],
     "language": "python",
     "metadata": {},
     "outputs": []
    }
   ],
   "metadata": {}
  }
 ]
}