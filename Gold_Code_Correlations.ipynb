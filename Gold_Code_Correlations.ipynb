{
 "metadata": {
  "celltoolbar": "Slideshow",
  "name": "",
  "signature": "sha256:a44d4b1562e6e8e25afb118bc1d3e43e3b3937c11e08db4f83c169bc26584914"
 },
 "nbformat": 3,
 "nbformat_minor": 0,
 "worksheets": [
  {
   "cells": [
    {
     "cell_type": "heading",
     "level": 1,
     "metadata": {
      "slideshow": {
       "slide_type": "slide"
      }
     },
     "source": [
      "Demonstration of cross-correlation between two binary sequences"
     ]
    },
    {
     "cell_type": "code",
     "collapsed": true,
     "input": [
      "from __future__ import division\n",
      "\n",
      "import numpy as np\n",
      "from matplotlib import pyplot as plt\n",
      "%matplotlib inline\n",
      "plt.rcParams['figure.figsize'] = (16.0, 10.0)\n",
      "\n",
      "from itertools import islice\n",
      "\n",
      "# JSAnimation import available at https://github.com/jakevdp/JSAnimation\n",
      "from JSAnimation import IPython_display\n",
      "from matplotlib import animation\n",
      "from IPython.html.widgets import interact\n",
      "\n",
      "from gps_prn_generator import prn_ca"
     ],
     "language": "python",
     "metadata": {
      "slideshow": {
       "slide_type": "skip"
      }
     },
     "outputs": []
    },
    {
     "cell_type": "code",
     "collapsed": true,
     "input": [
      "nbits = 40\n",
      "samples_per_chip = 5"
     ],
     "language": "python",
     "metadata": {
      "slideshow": {
       "slide_type": "skip"
      }
     },
     "outputs": []
    },
    {
     "cell_type": "code",
     "collapsed": true,
     "input": [
      "signals = {i:list(islice(prn_ca(i), nbits)) for i in range(1,32)}"
     ],
     "language": "python",
     "metadata": {
      "slideshow": {
       "slide_type": "skip"
      }
     },
     "outputs": []
    },
    {
     "cell_type": "code",
     "collapsed": true,
     "input": [
      "class CorrelationDemonstration(object):\n",
      "    \"\"\"Animation or interactive plot of the cross-correlation\n",
      "       of two binary sequences of the same length\n",
      "    \"\"\"\n",
      "    \n",
      "    def __init__(self, fig, signal1, signal2, samples_per_chip=5, croscorrelations=False): \n",
      "        assert len(signal1) == len(signal2)\n",
      "        self.croscorrelations = croscorrelations\n",
      "        self.fig = fig\n",
      "        self.signal1 = signal1\n",
      "        self.signal2 = signal2\n",
      "        self.length = len(signal1)\n",
      "\n",
      "        self.samples_per_chip = samples_per_chip\n",
      "        self.time = np.linspace(-0.5, 0.5, self.samples_per_chip * len(self.signal1))\n",
      "        \n",
      "        self.crosscorr_shifts = []\n",
      "        self.crosscorr_values = []\n",
      "        \n",
      "        self.fresh = True\n",
      "\n",
      "    def _plot_init(self):\n",
      "        if self.croscorrelations:\n",
      "            self.ax_lines = fig.add_subplot(211, \n",
      "                                            xlim=(-0.5, 0.5), \n",
      "                                            ylim=(-1.2, 1.2),\n",
      "                                            xlabel=\"Time\",\n",
      "                                            ylabel=\"Signal value\")\n",
      "        else:\n",
      "            self.ax_lines = plt.axes(xlim=(-0.5, 0.5), ylim=(-1.2, 1.2))\n",
      "\n",
      "        self.signal_1_line, = self.ax_lines.step([], [], lw=6, color='lightgreen')\n",
      "        self.signal_2_line, = self.ax_lines.step([], [], lw=6, color='lightblue') \n",
      "        self.product_line, = self.ax_lines.step([], [], lw=4, color='magenta')\n",
      "\n",
      "        self.signal_1_line.set_data([], [])\n",
      "        self.signal_2_line.set_data([], [])\n",
      "        self.product_line.set_data([], [])\n",
      "        self.ax_lines.axhline(0, color='black')\n",
      "\n",
      "        if self.croscorrelations:\n",
      "            self.ax_crosscorr = fig.add_subplot(212, xlim=(-self.length/2, \n",
      "                                                            self.length/2), \n",
      "                                                     ylim=(-1.1, 1.1), \n",
      "                                                     xlabel=\"Time lag\",\n",
      "                                                     ylabel=\"Correlation\")\n",
      " \n",
      "            self.crosscorr_scatter, = self.ax_crosscorr.plot([], [], linestyle='None', marker='.', markersize=12, color='red')\n",
      "            self.crosscorr_scatter.set_data([], [])\n",
      "            self.ax_crosscorr.axhline(0, color='black')\n",
      "            self.ax_crosscorr.axvline(0, color='black')\n",
      "        \n",
      "        self.fresh = False\n",
      "        \n",
      "    def plot(self, shift=0, update=False):\n",
      "        if self.fresh or update:\n",
      "            self._plot_init()\n",
      "        d1 =         np.where(self.signal1, 1.0, -1.0).repeat(self.samples_per_chip)\n",
      "        d2 = np.roll(np.where(self.signal2, 1.0, -1.0).repeat(self.samples_per_chip), shift)\n",
      "        self.signal_1_line.set_data(self.time, d1+0.02)\n",
      "        self.signal_2_line.set_data(self.time, d2-0.02)\n",
      "        self.product_line.set_data(self.time, 0.3*d1*d2)\n",
      "        \n",
      "        if self.croscorrelations:\n",
      "            self.crosscorr_shifts.append((shift/samples_per_chip+self.length/2)%self.length-self.length/2)\n",
      "            self.crosscorr_values.append(np.mean(d1*d2))\n",
      "            self.crosscorr_scatter.set_data(self.crosscorr_shifts, self.crosscorr_values)"
     ],
     "language": "python",
     "metadata": {
      "slideshow": {
       "slide_type": "skip"
      }
     },
     "outputs": []
    },
    {
     "cell_type": "code",
     "collapsed": true,
     "input": [
      "fig = plt.figure()\n",
      "demo = CorrelationDemonstration(fig, signals[1], signals[2])\n",
      "demo.plot(20)"
     ],
     "language": "python",
     "metadata": {
      "slideshow": {
       "slide_type": "skip"
      }
     },
     "outputs": []
    },
    {
     "cell_type": "code",
     "collapsed": true,
     "input": [
      "fig = plt.figure()\n",
      "demo = CorrelationDemonstration(fig, signals[1], signals[2], samples_per_chip)\n",
      "\n",
      "@interact(shift=(-int(samples_per_chip*nbits/2), int(samples_per_chip*nbits/2)))\n",
      "def d(shift):\n",
      "    demo.plot(shift, update=True)"
     ],
     "language": "python",
     "metadata": {
      "slideshow": {
       "slide_type": "slide"
      }
     },
     "outputs": []
    },
    {
     "cell_type": "code",
     "collapsed": true,
     "input": [
      "samples_per_chip = 5\n",
      "fig = plt.figure()\n",
      "demo = CorrelationDemonstration(fig, signals[1], signals[1], samples_per_chip=samples_per_chip, croscorrelations=True)\n",
      "animation.FuncAnimation(fig, demo.plot,\n",
      "                        frames=samples_per_chip*len(signals[1]), interval=100, blit=True)"
     ],
     "language": "python",
     "metadata": {
      "slideshow": {
       "slide_type": "slide"
      }
     },
     "outputs": []
    },
    {
     "cell_type": "code",
     "collapsed": true,
     "input": [
      "samples_per_chip = 5\n",
      "fig = plt.figure()\n",
      "demo = CorrelationDemonstration(fig, signals[1], signals[2], samples_per_chip=samples_per_chip, croscorrelations=True)\n",
      "animation.FuncAnimation(fig, demo.plot,\n",
      "                        frames=samples_per_chip*len(signals[1]), interval=100, blit=True)"
     ],
     "language": "python",
     "metadata": {
      "slideshow": {
       "slide_type": "slide"
      }
     },
     "outputs": []
    }
   ],
   "metadata": {}
  }
 ]
}