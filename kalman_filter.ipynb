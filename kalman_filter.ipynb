{
 "metadata": {
  "celltoolbar": "Slideshow",
  "name": "",
  "signature": "sha256:b8e0416a6d786319ff948cbc828359fbcb4ab69b60c1fc4169c7f55c07268fec"
 },
 "nbformat": 3,
 "nbformat_minor": 0,
 "worksheets": [
  {
   "cells": [
    {
     "cell_type": "heading",
     "level": 1,
     "metadata": {
      "slideshow": {
       "slide_type": "slide"
      }
     },
     "source": [
      "Kalman Filter"
     ]
    },
    {
     "cell_type": "code",
     "collapsed": true,
     "input": [
      "from __future__ import division\n",
      "\n",
      "import numpy as np\n",
      "from matplotlib import pyplot as plt\n",
      "%matplotlib inline\n",
      "plt.rcParams['figure.figsize'] = (16.0, 10.0)\n",
      "\n",
      "from itertools import islice\n",
      "\n",
      "# JSAnimation import available at https://github.com/jakevdp/JSAnimation\n",
      "from JSAnimation import IPython_display\n",
      "from matplotlib import animation\n",
      "from IPython.html.widgets import interact"
     ],
     "language": "python",
     "metadata": {
      "slideshow": {
       "slide_type": "skip"
      }
     },
     "outputs": []
    },
    {
     "cell_type": "code",
     "collapsed": true,
     "input": [
      "def true_coordinates(t):\n",
      "    if t < 0:\n",
      "        return (0.0, t)\n",
      "    else:\n",
      "        return (t, 0.0)"
     ],
     "language": "python",
     "metadata": {
      "slideshow": {
       "slide_type": "skip"
      }
     },
     "outputs": []
    },
    {
     "cell_type": "markdown",
     "metadata": {},
     "source": [
      "### Notation\n",
      "\n",
      "$\\cdot_k$ -- time step\n",
      "\n",
      "$\\mathbf{x}_k$ -- state\n",
      "\n",
      "$\\mathbf{z}_k$ -- observation\n",
      "\n",
      "$\\mathbf{F}_k$ -- the state-transition model\n",
      "\n",
      "$\\mathbf{H}_k$ -- the observation model\n",
      "\n",
      "$\\mathbf{Q}_k$ -- the covariance of the process noise\n",
      "\n",
      "$\\mathbf{R}_k$ -- the covariance of the observation noise\n",
      "\n",
      "$\\mathbf{B}_k$ -- the control-input model\n",
      "\n",
      "$\\mathbf{u}_k$ -- the control-input\n",
      "\n",
      "$\\mathbf{w}_k$ -- the process noise\n",
      "\n",
      "$\\mathbf{v}_k$ -- observation noise noise"
     ]
    },
    {
     "cell_type": "markdown",
     "metadata": {},
     "source": [
      "### System model\n",
      "#### State transition\n",
      "$$\n",
      "\\mathbf{x}_{k} = \\mathbf{F}_{k} \\mathbf{x}_{k-1} + \\mathbf{B}_{k} \\mathbf{u}_{k} + \\mathbf{w}_{k} \n",
      "$$\n",
      "where the process noise $\\mathbf{w}_{k}$ is assumed to be drawn from a zero mean multivariate normal distribution with covariance $\\mathbf{Q}_k$:\n",
      "$$\n",
      "\\mathbf{w}_k \\sim N(0, \\mathbf{Q}_k) \n",
      "$$      \n",
      "    \n",
      "#### Observation\n",
      "$$\n",
      "\\mathbf{z}_k = \\mathbf{H}_{k} \\mathbf{x}_k + \\mathbf{v}_k\n",
      "$$\n",
      "where the observation noise $\\mathbf{v}_k$ is assumed to be zero mean Gaussian white noise with covariance $\\mathbf{R}_k$:\n",
      "$$\n",
      "\\mathbf{v}_k \\sim N(0, \\mathbf{R}_k)\n",
      "$$\n",
      "\n",
      "The initial state, and the noise vectors at each step {$\\mathbf{x}_0$, $\\mathbf{w}_1$, $\\ldots$, $\\mathbf{w}_k$, $\\mathbf{v}_1$, $\\ldots$, $\\mathbf{v}_k$} are all assumed to be mutually independent."
     ]
    },
    {
     "cell_type": "markdown",
     "metadata": {},
     "source": [
      "### Kalman filter equations\n",
      "#### Prediction\n",
      "<table>\n",
      "<tr>\n",
      "<td>Predicted (a priori) state estimate</td>\n",
      "<td>$\\hat{\\mathbf{x}}_{k\\mid k-1} = \\mathbf{F}_{k}\\hat{\\mathbf{x}}_{k-1\\mid k-1} + \\mathbf{B}_{k} \\mathbf{u}_{k}$</td>\n",
      "</tr>\n",
      "<tr>\n",
      "<td>Predicted (a priori) estimate covariance</td>\n",
      "<td>$\\mathbf{P}_{k\\mid k-1} = \\mathbf{F}_{k} \\mathbf{P}_{k-1\\mid k-1} \\mathbf{F}_{k}^{\\text{T}} + \\mathbf{Q}_{k}$</td>\n",
      "</tr>\n",
      "</table>\n",
      "\n",
      "#### Update\n",
      "<table>\n",
      "<tr>\n",
      "<td>Innovation or measurement residual</td>\n",
      "<td>$\\tilde{\\mathbf{y}}_k = \\mathbf{z}_k - \\mathbf{H}_k\\hat{\\mathbf{x}}_{k\\mid k-1}$</td>\n",
      "</tr>\n",
      "<tr>\n",
      "<td>Innovation (or residual) covariance</td>\n",
      "<td>$\\mathbf{S}_k = \\mathbf{H}_k \\mathbf{P}_{k\\mid k-1} \\mathbf{H}_k^T + \\mathbf{R}_k$</td>\n",
      "</tr>\n",
      "<tr>\n",
      "<td>Optimal Kalman gain</td>\n",
      "<td>$\\mathbf{K}_k = \\mathbf{P}_{k\\mid k-1}\\mathbf{H}_k^T \\mathbf{S}_k^{-1}$</td>\n",
      "</tr>\n",
      "<tr>\n",
      "<td>Updated (a posteriori) state estimate</td>\n",
      "<td>$\\hat{\\mathbf{x}}_{k\\mid k} = \\hat{\\mathbf{x}}_{k\\mid k-1} + \\mathbf{K}_k\\tilde{\\mathbf{y}}_k$</td>\n",
      "</tr>\n",
      "<tr>\n",
      "<td>Updated (a posteriori) estimate covariance</td>\n",
      "<td>$\\mathbf{P}_{k|k} = (I - \\mathbf{K}_k \\mathbf{H}_k) \\mathbf{P}_{k|k-1}$</td>\n",
      "</tr>\n",
      "</table>"
     ]
    },
    {
     "cell_type": "markdown",
     "metadata": {},
     "source": [
      "### Describing the system with matrices\n",
      "#### State vector structure\n",
      "$$\n",
      " \\mathbf{x} = \\left( \n",
      "              \\begin{array}{c} x_1 \\\\\n",
      "                               x_2 \\\\\n",
      "                               v_1 \\\\\n",
      "                               v_2\n",
      "              \\end{array}\n",
      "              \\right)\n",
      "$$\n",
      "\n",
      "#### State transition\n",
      "$$\n",
      " \\mathbf{F}(\\Delta t) = \n",
      "   \\left(\n",
      "     \\begin{array}{cccc} 1 & 0 & \\Delta t & 0        \\\\\n",
      "                         0 & 1 &        0 & \\Delta t \\\\\n",
      "                         0 & 0 &        1 &        0 \\\\\n",
      "                         0 & 0 &        0 &        1\n",
      "     \\end{array}\n",
      "   \\right)  \n",
      "$$\n",
      "\n",
      "#### Observation model\n",
      "$$\n",
      "\\mathbf{H} =\n",
      "  \\left(\n",
      "    \\begin{array}{cccc}\n",
      "      1 & 0 & 0 & 0 \\\\\n",
      "      0 & 1 & 0 & 0\n",
      "    \\end{array}\n",
      "  \\right)\n",
      "$$\n",
      "\n",
      "#### Process noise: FIXME\n",
      "$$\n",
      " \\mathbf{Q}(\\Delta t) = \\sigma^2_a\n",
      "   \\left(\n",
      "     \\begin{array}{cccc} \\frac{\\Delta t^4}{4} &                    0 &          0 &          0 \\\\\n",
      "                                            0 & \\frac{\\Delta t^4}{4} &          0 &          0 \\\\\n",
      "                                            0 &                    0 & \\Delta t^2 &          0 \\\\\n",
      "                                            0 &                    0 &          0 & \\Delta t^2\n",
      "     \\end{array}\n",
      "   \\right)  \n",
      "$$\n",
      "\n",
      "#### Observation noise\n",
      "$$\n",
      " \\mathbf{R}(\\Delta t) = \\sigma^2_z\n",
      "   \\left(\n",
      "     \\begin{array}{cccc} 1 & 0 \\\\\n",
      "                         0 & 1 \n",
      "     \\end{array}\n",
      "   \\right)  \n",
      "$$"
     ]
    },
    {
     "cell_type": "code",
     "collapsed": true,
     "input": [
      "class KalmanFilter(object):\n",
      "    \n",
      "    def __init__(self, \n",
      "                 transition_matrix, \n",
      "                 observation_matrix, \n",
      "                 process_noise_covariance, \n",
      "                 observation_noise_covariance, \n",
      "                 control_input_matrix=None):\n",
      "\n",
      "        ensure_function = lambda z: z if callable(z) else lambda x, t, delta_t:z\n",
      "        self.transition_matrix = ensure_function(transition_matrix)\n",
      "        self.observation_matrix = endure_function(observation_matrix)\n",
      "        self.process_noise_covariance = ensure_function(process_noise_covariance)\n",
      "        self.observation_noise_covariance = ensure_function(observation_noise_covariance)\n",
      "        self.control_input_matrix = ensure_function(control_input_matrix)\n",
      "    \n",
      "    def predict(self, delta_time):\n",
      "        \"\"\"\n",
      "        \"\"\"\n",
      "        \n",
      "    def update(self, observation):\n",
      "        \"\"\"\n",
      "        \"\"\""
     ],
     "language": "python",
     "metadata": {
      "slideshow": {
       "slide_type": "skip"
      }
     },
     "outputs": []
    },
    {
     "cell_type": "code",
     "collapsed": true,
     "input": [
      "class CorrelationDemonstration(object):\n",
      "    \"\"\"Animation or interactive plot of the cross-correlation\n",
      "       of two binary sequences of the same length\n",
      "    \"\"\"\n",
      "    \n",
      "    def __init__(self, fig, signal1, signal2, samples_per_chip=5, croscorrelations=False): \n",
      "        assert len(signal1) == len(signal2)\n",
      "        self.croscorrelations = croscorrelations\n",
      "        self.fig = fig\n",
      "        self.signal1 = signal1\n",
      "        self.signal2 = signal2\n",
      "        self.length = len(signal1)\n",
      "\n",
      "        self.samples_per_chip = samples_per_chip\n",
      "        self.time = np.linspace(-0.5, 0.5, self.samples_per_chip * len(self.signal1))\n",
      "        \n",
      "        self.crosscorr_shifts = []\n",
      "        self.crosscorr_values = []\n",
      "        \n",
      "        self.fresh = True\n",
      "\n",
      "    def _plot_init(self):\n",
      "        if self.croscorrelations:\n",
      "            self.ax_lines = fig.add_subplot(211, \n",
      "                                            xlim=(-0.5, 0.5), \n",
      "                                            ylim=(-1.2, 1.2),\n",
      "                                            xlabel=\"Time\",\n",
      "                                            ylabel=\"Signal value\")\n",
      "        else:\n",
      "            self.ax_lines = plt.axes(xlim=(-0.5, 0.5), ylim=(-1.2, 1.2))\n",
      "\n",
      "        self.signal_1_line, = self.ax_lines.step([], [], lw=6, color='lightgreen')\n",
      "        self.signal_2_line, = self.ax_lines.step([], [], lw=6, color='lightblue') \n",
      "        self.product_line, = self.ax_lines.step([], [], lw=4, color='magenta')\n",
      "\n",
      "        self.signal_1_line.set_data([], [])\n",
      "        self.signal_2_line.set_data([], [])\n",
      "        self.product_line.set_data([], [])\n",
      "        self.ax_lines.axhline(0, color='black')\n",
      "\n",
      "        if self.croscorrelations:\n",
      "            self.ax_crosscorr = fig.add_subplot(212, xlim=(-self.length/2, \n",
      "                                                            self.length/2), \n",
      "                                                     ylim=(-1.1, 1.1), \n",
      "                                                     xlabel=\"Time lag\",\n",
      "                                                     ylabel=\"Correlation\")\n",
      " \n",
      "            self.crosscorr_scatter, = self.ax_crosscorr.plot([], [], linestyle='None', marker='.', markersize=12, color='red')\n",
      "            self.crosscorr_scatter.set_data([], [])\n",
      "            self.ax_crosscorr.axhline(0, color='black')\n",
      "            self.ax_crosscorr.axvline(0, color='black')\n",
      "        \n",
      "        self.fresh = False\n",
      "        \n",
      "    def plot(self, shift=0, update=False):\n",
      "        if self.fresh or update:\n",
      "            self._plot_init()\n",
      "        d1 =         np.where(self.signal1, 1.0, -1.0).repeat(self.samples_per_chip)\n",
      "        d2 = np.roll(np.where(self.signal2, 1.0, -1.0).repeat(self.samples_per_chip), shift)\n",
      "        self.signal_1_line.set_data(self.time, d1+0.02)\n",
      "        self.signal_2_line.set_data(self.time, d2-0.02)\n",
      "        self.product_line.set_data(self.time, 0.3*d1*d2)\n",
      "        \n",
      "        if self.croscorrelations:\n",
      "            self.crosscorr_shifts.append((shift/samples_per_chip+self.length/2)%self.length-self.length/2)\n",
      "            self.crosscorr_values.append(np.mean(d1*d2))\n",
      "            self.crosscorr_scatter.set_data(self.crosscorr_shifts, self.crosscorr_values)"
     ],
     "language": "python",
     "metadata": {
      "slideshow": {
       "slide_type": "skip"
      }
     },
     "outputs": []
    },
    {
     "cell_type": "code",
     "collapsed": true,
     "input": [
      "fig = plt.figure()\n",
      "demo = CorrelationDemonstration(fig, signals[1], signals[2])\n",
      "demo.plot(20)"
     ],
     "language": "python",
     "metadata": {
      "slideshow": {
       "slide_type": "skip"
      }
     },
     "outputs": []
    },
    {
     "cell_type": "code",
     "collapsed": true,
     "input": [
      "fig = plt.figure()\n",
      "demo = CorrelationDemonstration(fig, signals[1], signals[1], samples_per_chip)\n",
      "\n",
      "@interact(shift=(-int(samples_per_chip*nbits/2), int(samples_per_chip*nbits/2)))\n",
      "def d(shift):\n",
      "    demo.plot(shift, update=True)"
     ],
     "language": "python",
     "metadata": {
      "slideshow": {
       "slide_type": "skip"
      }
     },
     "outputs": []
    },
    {
     "cell_type": "markdown",
     "metadata": {
      "slideshow": {
       "slide_type": "slide"
      }
     },
     "source": [
      "## Cross-correlating a code with itself"
     ]
    },
    {
     "cell_type": "code",
     "collapsed": true,
     "input": [
      "samples_per_chip = 5\n",
      "fig = plt.figure()\n",
      "demo = CorrelationDemonstration(fig, signals[1], signals[1], samples_per_chip=samples_per_chip, croscorrelations=True)\n",
      "animation.FuncAnimation(fig, demo.plot,\n",
      "                        frames=samples_per_chip*len(signals[1]), interval=200, blit=True)"
     ],
     "language": "python",
     "metadata": {
      "slideshow": {
       "slide_type": "subslide"
      }
     },
     "outputs": []
    },
    {
     "cell_type": "markdown",
     "metadata": {
      "slideshow": {
       "slide_type": "slide"
      }
     },
     "source": [
      "## Cross-correlating two different codes"
     ]
    },
    {
     "cell_type": "code",
     "collapsed": true,
     "input": [
      "samples_per_chip = 5\n",
      "fig = plt.figure()\n",
      "demo = CorrelationDemonstration(fig, signals[1], signals[2], samples_per_chip=samples_per_chip, croscorrelations=True)\n",
      "animation.FuncAnimation(fig, demo.plot,\n",
      "                        frames=samples_per_chip*len(signals[1]), interval=200, blit=True)"
     ],
     "language": "python",
     "metadata": {
      "slideshow": {
       "slide_type": "subslide"
      }
     },
     "outputs": []
    },
    {
     "cell_type": "code",
     "collapsed": false,
     "input": [],
     "language": "python",
     "metadata": {},
     "outputs": []
    }
   ],
   "metadata": {}
  }
 ]
}